{
 "cells": [
  {
   "cell_type": "markdown",
   "id": "71a4bbd1",
   "metadata": {},
   "source": [
    "**Задачи:**\n",
    "- "
   ]
  },
  {
   "cell_type": "markdown",
   "id": "2c4def7d",
   "metadata": {},
   "source": [
    "**Комментарии:**\n",
    "- 2 чекпоинта, первый 11-14, второй 18-21 - делимся тем, что уже сделали, какие есть идеи\n",
    "- 11:00 в вс дедлайн по сдаче решений\n",
    "- 17:45-19:15 в вс выбор победителя \n",
    "- чекпоинт - встреча в zoom на 9 минут, чтобы презентовать свое решение менторам, нужен отдельный человек, кто получит фидбек\n",
    "- чекпоинты нужно фиксировать на платформе\n",
    "- в решение входят: ссылка на гитхаб, видеодемонстрация 2 минуты, презентация, краткое описание\n",
    "- можно создать мемный стикерпак, связанный с хакатоном, из 3-х+ мемов\n",
    "- можно выложить фотку вк с нашим талисманом"
   ]
  },
  {
   "cell_type": "code",
   "execution_count": 3,
   "id": "87684dca",
   "metadata": {},
   "outputs": [
    {
     "name": "stdout",
     "output_type": "stream",
     "text": [
      "Collecting feedparser\n",
      "  Downloading feedparser-6.0.10-py3-none-any.whl (81 kB)\n",
      "Collecting sgmllib3k\n",
      "  Downloading sgmllib3k-1.0.0.tar.gz (5.8 kB)\n",
      "Building wheels for collected packages: sgmllib3k\n",
      "  Building wheel for sgmllib3k (setup.py): started\n",
      "  Building wheel for sgmllib3k (setup.py): finished with status 'done'\n",
      "  Created wheel for sgmllib3k: filename=sgmllib3k-1.0.0-py3-none-any.whl size=6066 sha256=f9b33e03ddafbbe11c17c17989d1a545a3b35f5cf13f8c887618ce36b46c00ae\n",
      "  Stored in directory: c:\\users\\mhadj\\appdata\\local\\pip\\cache\\wheels\\65\\7a\\a7\\78c287f64e401255dff4c13fdbc672fed5efbfd21c530114e1\n",
      "Successfully built sgmllib3k\n",
      "Installing collected packages: sgmllib3k, feedparser\n",
      "Successfully installed feedparser-6.0.10 sgmllib3k-1.0.0\n"
     ]
    }
   ],
   "source": [
    "!pip install feedparser\n",
    "import feedparser\n",
    "import csv\n",
    "import pandas as pd\n",
    "import re"
   ]
  },
  {
   "cell_type": "code",
   "execution_count": null,
   "id": "0cdec905",
   "metadata": {},
   "outputs": [],
   "source": []
  }
 ],
 "metadata": {
  "kernelspec": {
   "display_name": "Python 3 (ipykernel)",
   "language": "python",
   "name": "python3"
  },
  "language_info": {
   "codemirror_mode": {
    "name": "ipython",
    "version": 3
   },
   "file_extension": ".py",
   "mimetype": "text/x-python",
   "name": "python",
   "nbconvert_exporter": "python",
   "pygments_lexer": "ipython3",
   "version": "3.9.12"
  }
 },
 "nbformat": 4,
 "nbformat_minor": 5
}
