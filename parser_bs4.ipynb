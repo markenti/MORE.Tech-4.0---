{
 "cells": [
  {
   "cell_type": "code",
   "execution_count": 1,
   "id": "9288fff6",
   "metadata": {
    "scrolled": true
   },
   "outputs": [],
   "source": [
    "import requests\n",
    "from bs4 import BeautifulSoup\n",
    "from pandas import to_datetime, DataFrame, concat"
   ]
  },
  {
   "cell_type": "code",
   "execution_count": 2,
   "id": "042de946",
   "metadata": {},
   "outputs": [],
   "source": [
    "def get_day_news(url):\n",
    "\n",
    "    day_df = DataFrame()\n",
    "    \n",
    "    for page in range(1, 50):\n",
    "\n",
    "        response = requests.get(url + str(page))\n",
    "        soup = BeautifulSoup(response.text, 'lxml')\n",
    "        \n",
    "        items = soup.find_all(class_=\"archive-page__item _news\")\n",
    "        \n",
    "        if len(items) == 0:\n",
    "            return day_df\n",
    "        \n",
    "        dates = [to_datetime(url[35:45]) for data in range(len(items))]\n",
    "        titles = []\n",
    "        texts = []\n",
    "        links = []\n",
    "        \n",
    "        for item in items:\n",
    "\n",
    "            titles.append(item.find('h3').get_text().strip())\n",
    "\n",
    "            news_url = 'https://lenta.ru' + item.find(class_='card-full-news _archive').get('href')\n",
    "            links.append(news_url)\n",
    "            news_soup = BeautifulSoup(requests.get(news_url).text, 'lxml')\n",
    "\n",
    "            texts.append(' '.join([paragraph.get_text().strip() for paragraph in news_soup.find_all('p')][1:]))\n",
    "\n",
    "        day_df = concat([day_df, DataFrame({'date': dates, 'title': titles, 'full_descr': texts, 'link': links})])"
   ]
  },
  {
   "cell_type": "code",
   "execution_count": 3,
   "id": "d37433b3",
   "metadata": {},
   "outputs": [
    {
     "data": {
      "text/plain": [
       "['2020/01/01',\n",
       " '2020/01/02',\n",
       " '2020/01/03',\n",
       " '2020/01/04',\n",
       " '2020/01/05',\n",
       " '2020/01/06',\n",
       " '2020/01/07',\n",
       " '2020/01/08',\n",
       " '2020/01/09',\n",
       " '2020/01/10',\n",
       " '2020/01/11',\n",
       " '2020/01/12',\n",
       " '2020/01/13',\n",
       " '2020/01/14',\n",
       " '2020/01/15',\n",
       " '2020/01/16',\n",
       " '2020/01/17',\n",
       " '2020/01/18',\n",
       " '2020/01/19',\n",
       " '2020/01/20',\n",
       " '2020/01/21',\n",
       " '2020/01/22',\n",
       " '2020/01/23',\n",
       " '2020/01/24',\n",
       " '2020/01/25',\n",
       " '2020/01/26',\n",
       " '2020/01/27',\n",
       " '2020/01/28',\n",
       " '2020/01/29',\n",
       " '2020/01/30',\n",
       " '2020/01/31']"
      ]
     },
     "execution_count": 3,
     "metadata": {},
     "output_type": "execute_result"
    }
   ],
   "source": [
    "from datetime import date, timedelta\n",
    "\n",
    "start_date, end_date = date(2020, 1, 1), date(2020, 1, 31)\n",
    "delta = end_date - start_date\n",
    "\n",
    "dates = [str(start_date + timedelta(days=i))[:4] + '/'\n",
    "                + str(start_date + timedelta(days=i))[5:7] + '/'\n",
    "                + str(start_date + timedelta(days=i))[8:10] for i in range(delta.days + 1)]\n",
    "dates"
   ]
  },
  {
   "cell_type": "code",
   "execution_count": 4,
   "id": "d3af0ed1",
   "metadata": {},
   "outputs": [
    {
     "name": "stderr",
     "output_type": "stream",
     "text": [
      "100%|███████████████████████████████████████████| 31/31 [03:40<00:00,  7.13s/it]\n"
     ]
    }
   ],
   "source": [
    "from tqdm import tqdm\n",
    "\n",
    "df = DataFrame()\n",
    "\n",
    "for date in tqdm(dates):\n",
    "    df = concat([df, get_day_news('https://lenta.ru/rubrics/economics/' + date + '/page/')])"
   ]
  },
  {
   "cell_type": "code",
   "execution_count": 5,
   "id": "f30189d4",
   "metadata": {},
   "outputs": [
    {
     "data": {
      "text/plain": [
       "(597, 4)"
      ]
     },
     "execution_count": 5,
     "metadata": {},
     "output_type": "execute_result"
    }
   ],
   "source": [
    "df.shape"
   ]
  },
  {
   "cell_type": "code",
   "execution_count": 6,
   "id": "45f602df",
   "metadata": {},
   "outputs": [
    {
     "data": {
      "text/html": [
       "<div>\n",
       "<style scoped>\n",
       "    .dataframe tbody tr th:only-of-type {\n",
       "        vertical-align: middle;\n",
       "    }\n",
       "\n",
       "    .dataframe tbody tr th {\n",
       "        vertical-align: top;\n",
       "    }\n",
       "\n",
       "    .dataframe thead th {\n",
       "        text-align: right;\n",
       "    }\n",
       "</style>\n",
       "<table border=\"1\" class=\"dataframe\">\n",
       "  <thead>\n",
       "    <tr style=\"text-align: right;\">\n",
       "      <th></th>\n",
       "      <th>date</th>\n",
       "      <th>title</th>\n",
       "      <th>full_descr</th>\n",
       "      <th>link</th>\n",
       "    </tr>\n",
       "  </thead>\n",
       "  <tbody>\n",
       "    <tr>\n",
       "      <th>0</th>\n",
       "      <td>2020-01-01</td>\n",
       "      <td>В России повысили зарплаты</td>\n",
       "      <td>В России повышен минимальный размер оплаты тру...</td>\n",
       "      <td>https://lenta.ru/news/2020/01/01/mrot/</td>\n",
       "    </tr>\n",
       "    <tr>\n",
       "      <th>1</th>\n",
       "      <td>2020-01-01</td>\n",
       "      <td>В России подорожали алкогольные напитки и сига...</td>\n",
       "      <td>В России подорожали алкогольные напитки и сига...</td>\n",
       "      <td>https://lenta.ru/news/2020/01/01/expensive/</td>\n",
       "    </tr>\n",
       "    <tr>\n",
       "      <th>2</th>\n",
       "      <td>2020-01-01</td>\n",
       "      <td>В России повысили пенсии</td>\n",
       "      <td>С 1 января 2020 года в России повысили пенсии ...</td>\n",
       "      <td>https://lenta.ru/news/2020/01/01/pensions/</td>\n",
       "    </tr>\n",
       "    <tr>\n",
       "      <th>3</th>\n",
       "      <td>2020-01-01</td>\n",
       "      <td>Банковские переводы по номеру телефона стали п...</td>\n",
       "      <td>Центробанк начал взимать комиссию с банков за ...</td>\n",
       "      <td>https://lenta.ru/news/2020/01/01/comission/</td>\n",
       "    </tr>\n",
       "    <tr>\n",
       "      <th>4</th>\n",
       "      <td>2020-01-01</td>\n",
       "      <td>В России утвердили стандарты органической еды</td>\n",
       "      <td>В России вступил в силу закон об органической ...</td>\n",
       "      <td>https://lenta.ru/news/2020/01/01/org/</td>\n",
       "    </tr>\n",
       "    <tr>\n",
       "      <th>5</th>\n",
       "      <td>2020-01-01</td>\n",
       "      <td>Российские театры освободили от налогов</td>\n",
       "      <td>Российские театры и другие учреждения культуры...</td>\n",
       "      <td>https://lenta.ru/news/2020/01/01/theaters/</td>\n",
       "    </tr>\n",
       "    <tr>\n",
       "      <th>6</th>\n",
       "      <td>2020-01-01</td>\n",
       "      <td>Покупать в интернете за границей стало сложнее</td>\n",
       "      <td>Покупать в интернете за границей стало сложнее...</td>\n",
       "      <td>https://lenta.ru/news/2020/01/01/tariff/</td>\n",
       "    </tr>\n",
       "    <tr>\n",
       "      <th>7</th>\n",
       "      <td>2020-01-01</td>\n",
       "      <td>На Украине подорожал газ</td>\n",
       "      <td>Цена на газ для населения Украины выросла с 58...</td>\n",
       "      <td>https://lenta.ru/news/2020/01/01/gas/</td>\n",
       "    </tr>\n",
       "    <tr>\n",
       "      <th>8</th>\n",
       "      <td>2020-01-01</td>\n",
       "      <td>В России стало больше самозанятых</td>\n",
       "      <td>В России стало больше самозанятых — специальны...</td>\n",
       "      <td>https://lenta.ru/news/2020/01/01/self/</td>\n",
       "    </tr>\n",
       "    <tr>\n",
       "      <th>9</th>\n",
       "      <td>2020-01-01</td>\n",
       "      <td>Суд отменил штраф американской компании за нар...</td>\n",
       "      <td>Федеральный суд Северного округа штата Техас о...</td>\n",
       "      <td>https://lenta.ru/news/2020/01/01/exxx/</td>\n",
       "    </tr>\n",
       "    <tr>\n",
       "      <th>10</th>\n",
       "      <td>2020-01-01</td>\n",
       "      <td>Болгария начала получать газ из «Турецкого пот...</td>\n",
       "      <td>C 1 января Болгария начала получать российский...</td>\n",
       "      <td>https://lenta.ru/news/2020/01/01/blgr/</td>\n",
       "    </tr>\n",
       "    <tr>\n",
       "      <th>11</th>\n",
       "      <td>2020-01-01</td>\n",
       "      <td>На Украине заявили о начале транспортировки га...</td>\n",
       "      <td>Украина начала поставки газа в Европу по новом...</td>\n",
       "      <td>https://lenta.ru/news/2020/01/01/this_is_begin/</td>\n",
       "    </tr>\n",
       "    <tr>\n",
       "      <th>12</th>\n",
       "      <td>2020-01-01</td>\n",
       "      <td>«Нафтогаз» объявил о завершении отделения опер...</td>\n",
       "      <td>Отделение оператора газотранспортной системы (...</td>\n",
       "      <td>https://lenta.ru/news/2020/01/01/naftogaz/</td>\n",
       "    </tr>\n",
       "    <tr>\n",
       "      <th>0</th>\n",
       "      <td>2020-01-02</td>\n",
       "      <td>Глава «Нафтогаза» рассказал о буфере между «Га...</td>\n",
       "      <td>Глава «Нафтогаза» Андрей Коболев рассказал, чт...</td>\n",
       "      <td>https://lenta.ru/news/2020/01/02/gazzzz/</td>\n",
       "    </tr>\n",
       "    <tr>\n",
       "      <th>1</th>\n",
       "      <td>2020-01-02</td>\n",
       "      <td>На Украине заявили о неготовности к возвращени...</td>\n",
       "      <td>Украина еще не готова к возвращению к прямым п...</td>\n",
       "      <td>https://lenta.ru/news/2020/01/02/gas_/</td>\n",
       "    </tr>\n",
       "  </tbody>\n",
       "</table>\n",
       "</div>"
      ],
      "text/plain": [
       "         date                                              title  \\\n",
       "0  2020-01-01                         В России повысили зарплаты   \n",
       "1  2020-01-01  В России подорожали алкогольные напитки и сига...   \n",
       "2  2020-01-01                           В России повысили пенсии   \n",
       "3  2020-01-01  Банковские переводы по номеру телефона стали п...   \n",
       "4  2020-01-01      В России утвердили стандарты органической еды   \n",
       "5  2020-01-01            Российские театры освободили от налогов   \n",
       "6  2020-01-01     Покупать в интернете за границей стало сложнее   \n",
       "7  2020-01-01                           На Украине подорожал газ   \n",
       "8  2020-01-01                  В России стало больше самозанятых   \n",
       "9  2020-01-01  Суд отменил штраф американской компании за нар...   \n",
       "10 2020-01-01  Болгария начала получать газ из «Турецкого пот...   \n",
       "11 2020-01-01  На Украине заявили о начале транспортировки га...   \n",
       "12 2020-01-01  «Нафтогаз» объявил о завершении отделения опер...   \n",
       "0  2020-01-02  Глава «Нафтогаза» рассказал о буфере между «Га...   \n",
       "1  2020-01-02  На Украине заявили о неготовности к возвращени...   \n",
       "\n",
       "                                           full_descr  \\\n",
       "0   В России повышен минимальный размер оплаты тру...   \n",
       "1   В России подорожали алкогольные напитки и сига...   \n",
       "2   С 1 января 2020 года в России повысили пенсии ...   \n",
       "3   Центробанк начал взимать комиссию с банков за ...   \n",
       "4   В России вступил в силу закон об органической ...   \n",
       "5   Российские театры и другие учреждения культуры...   \n",
       "6   Покупать в интернете за границей стало сложнее...   \n",
       "7   Цена на газ для населения Украины выросла с 58...   \n",
       "8   В России стало больше самозанятых — специальны...   \n",
       "9   Федеральный суд Северного округа штата Техас о...   \n",
       "10  C 1 января Болгария начала получать российский...   \n",
       "11  Украина начала поставки газа в Европу по новом...   \n",
       "12  Отделение оператора газотранспортной системы (...   \n",
       "0   Глава «Нафтогаза» Андрей Коболев рассказал, чт...   \n",
       "1   Украина еще не готова к возвращению к прямым п...   \n",
       "\n",
       "                                               link  \n",
       "0            https://lenta.ru/news/2020/01/01/mrot/  \n",
       "1       https://lenta.ru/news/2020/01/01/expensive/  \n",
       "2        https://lenta.ru/news/2020/01/01/pensions/  \n",
       "3       https://lenta.ru/news/2020/01/01/comission/  \n",
       "4             https://lenta.ru/news/2020/01/01/org/  \n",
       "5        https://lenta.ru/news/2020/01/01/theaters/  \n",
       "6          https://lenta.ru/news/2020/01/01/tariff/  \n",
       "7             https://lenta.ru/news/2020/01/01/gas/  \n",
       "8            https://lenta.ru/news/2020/01/01/self/  \n",
       "9            https://lenta.ru/news/2020/01/01/exxx/  \n",
       "10           https://lenta.ru/news/2020/01/01/blgr/  \n",
       "11  https://lenta.ru/news/2020/01/01/this_is_begin/  \n",
       "12       https://lenta.ru/news/2020/01/01/naftogaz/  \n",
       "0          https://lenta.ru/news/2020/01/02/gazzzz/  \n",
       "1            https://lenta.ru/news/2020/01/02/gas_/  "
      ]
     },
     "execution_count": 6,
     "metadata": {},
     "output_type": "execute_result"
    }
   ],
   "source": [
    "df.head(15)"
   ]
  },
  {
   "cell_type": "code",
   "execution_count": 7,
   "id": "4328da4f",
   "metadata": {},
   "outputs": [
    {
     "data": {
      "text/plain": [
       "Timestamp('2020-01-01 00:00:00')"
      ]
     },
     "execution_count": 7,
     "metadata": {},
     "output_type": "execute_result"
    }
   ],
   "source": [
    "df.iloc[7]['date']"
   ]
  },
  {
   "cell_type": "code",
   "execution_count": 8,
   "id": "2666716a",
   "metadata": {},
   "outputs": [
    {
     "data": {
      "text/plain": [
       "'На Украине подорожал газ'"
      ]
     },
     "execution_count": 8,
     "metadata": {},
     "output_type": "execute_result"
    }
   ],
   "source": [
    "df.iloc[7]['title']"
   ]
  },
  {
   "cell_type": "code",
   "execution_count": 9,
   "id": "cd957701",
   "metadata": {},
   "outputs": [
    {
     "data": {
      "text/plain": [
       "'Цена на газ для населения Украины выросла с 5878 гривен (15,4 тысячи рублей) до 6600 гривен (17,3 тысячи рублей) за тысячу кубометров. Об этом говорилось в сообщении украинского Минэнерго. Указанные цены не включают стоимость транспортировки топлива. С 1 января государство прекратило регулировать цены на газ для населения, которые прежде удерживало на определенном уровне, компенсируя поставщикам разницу с рыночными ценами. С 2020 года цена определяется, исходя из мировых цен на топливо с учетом стоимости транспортировки. Таково было требование Международного валютного фонда при предоставлении очередного кредитного транша. До конца отопительного сезона цена тысячи кубометров, продаваемого «Нафтогазом» на оптовом рынке, составит 5,5 тысячи гривен без учета НДС (20 процентов), или 6,6 тысячи гривен с учетом НДС.'"
      ]
     },
     "execution_count": 9,
     "metadata": {},
     "output_type": "execute_result"
    }
   ],
   "source": [
    "df.iloc[7]['full_descr']"
   ]
  },
  {
   "cell_type": "code",
   "execution_count": 10,
   "id": "e079145e",
   "metadata": {},
   "outputs": [
    {
     "data": {
      "text/plain": [
       "'https://lenta.ru/news/2020/01/01/gas/'"
      ]
     },
     "execution_count": 10,
     "metadata": {},
     "output_type": "execute_result"
    }
   ],
   "source": [
    "df.iloc[7]['link']"
   ]
  },
  {
   "cell_type": "code",
   "execution_count": null,
   "id": "5d999f91",
   "metadata": {},
   "outputs": [],
   "source": []
  }
 ],
 "metadata": {
  "kernelspec": {
   "display_name": "Python 3 (ipykernel)",
   "language": "python",
   "name": "python3"
  },
  "language_info": {
   "codemirror_mode": {
    "name": "ipython",
    "version": 3
   },
   "file_extension": ".py",
   "mimetype": "text/x-python",
   "name": "python",
   "nbconvert_exporter": "python",
   "pygments_lexer": "ipython3",
   "version": "3.8.13"
  }
 },
 "nbformat": 4,
 "nbformat_minor": 5
}
